{
 "cells": [
  {
   "cell_type": "markdown",
   "id": "soviet-significance",
   "metadata": {},
   "source": [
    "# COMM061 - Natural Language Processing Coursework -  Group Deployment\n",
    "\n",
    "## Netflix Shows and Movies Genre Classification\n",
    "\n",
    "Danylo Kovalenko \n",
    "URN: **6413526**<br>\n",
    "Jamie Dance \n",
    "URN: **6661320**<br>\n",
    "Prakash Jha \n",
    "URN: **6659329**\n",
    "\n",
    "### ----------------------------------------------------------------------------------------------------------------------------------\n"
   ]
  },
  {
   "cell_type": "markdown",
   "id": "imposed-tackle",
   "metadata": {},
   "source": [
    "## Table of Contents\n",
    "\n",
    "* [Introduction](#intro)\n",
    "* [Model Serving Options](#model_serving)\n",
    "* [Importing Libraries and Loading the Dataset](#imports)\n",
    "* [Preparing the Dataset](#preparation)\n",
    "* [Description Processing and the SVM model](#further_processing)\n",
    "* [CI/ID Pipeline](#pipelining)\n",
    "* [Testing](#testing)\n",
    "* [The Performance of the Service - the Good and Bad Points](#performance)"
   ]
  },
  {
   "cell_type": "markdown",
   "id": "maritime-liver",
   "metadata": {},
   "source": [
    "<a class=\"anchor\" id=\"intro\"></a>"
   ]
  },
  {
   "cell_type": "markdown",
   "id": "important-responsibility",
   "metadata": {},
   "source": [
    "## Introduction"
   ]
  },
  {
   "cell_type": "markdown",
   "id": "pharmaceutical-dispute",
   "metadata": {},
   "source": [
    "Method used: \n",
    "* Break down the genres column into separate columns \n",
    "* Remove underrepresented genres and bucket them into 'Other'\n",
    "* Obtain a list of stopwords from the NLTK and sklearn libraries\n",
    "* Prepare the descriptions - make lowercase, remove punctuation, fix contractions, remove numeric characters, remove stopwords \n",
    "* Apply keras tokeniser and Snowball Stemmer\n",
    "* Vectorise (with n-grams)\n",
    "* Build the SVM model\n",
    "* Create a pipeline\n",
    "\n",
    "\n",
    "Having completed the individual experimentation, we concluded that the best model to use with this dataset is the LSTM neural network, as it was giving the highest AUC ROC score. However, the purpose of this task is to successfully deploy a model. After numerous attempts to create a pipeline and deploy the LSTM model, we decided to switch to the SVM model. Although its ROC AUC score is not as high, it is reasonable for the purposes of the task. Furthermore, it is a much faster model, which may be preferred by the end user. \n",
    "\n",
    "The following code first loads and prepares the dataset, then builds the SVM model and then creates the pipeline. "
   ]
  },
  {
   "cell_type": "markdown",
   "id": "light-gambling",
   "metadata": {},
   "source": [
    "<a class=\"anchor\" id=\"model_serving\"></a>"
   ]
  },
  {
   "cell_type": "markdown",
   "id": "chicken-merchant",
   "metadata": {},
   "source": [
    "## Model Serving Option(s) and the Right Choice for Us "
   ]
  },
  {
   "cell_type": "markdown",
   "id": "after-pencil",
   "metadata": {},
   "source": [
    "The most common way to deploy a trained model is to save into the binary format of the tool of your choice, wrap it in a microservice (such as Python's Flask application) and use it for inference. As argued by Javier Ramos (itnext.io, 2020), managed solutions simplify this deployment process and provide tools to perform canary releases and A/B testing. This approach is known as **\"Model as Code\"**. However, this approach has several disadvantages, as the number of models grow, the number of microservices multiplies and so do the number of failure points, latency, etc…. Making it potentially very difficult to manage.\n",
    "Another method and more recent approach is to standardize the model format so it can be used programmatically using any programming language so you don’t have to wrap it in a microservice. This is specially useful for data processing streams where latency and error management is an issue. Since we call the model directly we don’t have to worry about monitoring, error handling, etc. This approach is known as **“Model as Data”**.\n",
    "\n",
    "**Model as Code**\n",
    "\n",
    "This is the most common method of deployment due to the process being significantly simpler to use for model developers that are not skilled in software engineering. This method allows them to use their skills in tools such as Python, R, Jupyter Notebook, etc, to train models and use their existing knowledge, usually Python to wrap the models in HTTP services. \n",
    "Some of the tools that focus on model serving are:\n",
    "* Flask\n",
    "* Seldon\n",
    "* Clipper\n",
    "* TensorFlow Serving\n",
    "\n",
    "The advantages of this approach are:\n",
    "* Easy to develop.\n",
    "* Developers do not ned to care about production maintenance and monitoring. Site reliability engineering can manage these services.\n",
    "* Can be automated using tools such as AWS SageMaker.\n",
    "\n",
    "The disadvantages of this approach are:\n",
    "* The complexity to monitor and maintain the models grow as more and more models are added.\n",
    "* Extra latency and more points of failures which affect reliability.\n",
    "* Impedance Mismatch: Model developers or data scientists use a different set of tools such R or Python compared to Software developers.\n",
    "* Difficult to update the model.\n",
    "* It does not scale for big data streaming pipelines due to extra latency and data size.\n",
    "\n",
    "**Model as Data** \n",
    "\n",
    "A more recent approach is to standardize the models as data so it can be read in any programming language. Currently, Tensorflow has emerged as the go to application, the new SavedModel format contains a complete TensorFlow program, including weights and computation. It does not require the original model building code to run, which makes it useful for sharing.\n",
    "Solutions can be implements using solutions such as:\n",
    "* Akka Streams\n",
    "* Spark Structured Streaming\n",
    "* Flink\n",
    "\n",
    "The advantages of using this approach are:\n",
    "* Simplified model management.\n",
    "* Model standardization.\n",
    "* Low latency.\n",
    "* Easier to implement, many options available.\n",
    "* Helps with communication when you have silos.\n",
    "\n",
    "The disadvantages of using this approach are:\n",
    "* Not all Data Scientist tools support the current standard formats. For certain use cases you just can’t use this approach yet.\n",
    "* Early stages of standardization.\n",
    "\n",
    "\n",
    "**Our direction**\n",
    "\n",
    "Due to the simplicity and the need for an easy to develop solution we have decided to use the traditional Flask model serving option. It is quick and easy to build a minimal but powerful platform. All members of the group have experience with Flask prior to this assessment so naturally it seemed like the logical method to go with so that we could provide the best possible solution. Given more time maybe we could have tested some of the more modern solutions as specified in previous sections.\n"
   ]
  },
  {
   "cell_type": "markdown",
   "id": "compact-pleasure",
   "metadata": {},
   "source": [
    "<a class=\"anchor\" id=\"imports\"></a>"
   ]
  },
  {
   "cell_type": "markdown",
   "id": "banner-cathedral",
   "metadata": {
    "id": "banner-cathedral"
   },
   "source": [
    "## Importing Libraries and Loading the Dataset \n",
    "\n",
    "The first step is to import some common libraries and to load the dataset. The dataset is a csv file, so it is loaded as a dataframe using pandas."
   ]
  },
  {
   "cell_type": "code",
   "execution_count": 52,
   "id": "rapid-flood",
   "metadata": {
    "id": "rapid-flood"
   },
   "outputs": [],
   "source": [
    "# reading and manipulating the dataset\n",
    "import pandas as pd\n",
    "import numpy as np\n",
    "import re\n",
    "import contractions\n",
    "\n",
    "# visualisations\n",
    "from matplotlib import pyplot as plt\n",
    "import seaborn as sns\n",
    "\n",
    "# ignore warnings\n",
    "import warnings\n",
    "warnings.filterwarnings('ignore')\n",
    "\n",
    "# typing annotations\n",
    "from typing import List\n",
    "\n",
    "# NLP libraries\n",
    "import nltk\n",
    "from sklearn.feature_extraction.text import TfidfVectorizer\n",
    "from nltk.stem.snowball import SnowballStemmer\n",
    "from sklearn.feature_extraction.text import ENGLISH_STOP_WORDS\n",
    "from keras.preprocessing.text import text_to_word_sequence\n",
    "\n",
    "# train/test splitting\n",
    "from sklearn.model_selection import train_test_split\n",
    "\n",
    "# machine learning models\n",
    "from sklearn.multiclass import OneVsRestClassifier\n",
    "from sklearn.svm import SVC\n",
    "\n",
    "# scoring\n",
    "from sklearn.metrics import roc_auc_score, f1_score\n",
    "from sklearn.metrics import multilabel_confusion_matrix\n",
    "\n",
    "# pipelines\n",
    "from sklearn.pipeline import Pipeline\n",
    "from sklearn.preprocessing import FunctionTransformer\n",
    "from joblib import dump, load\n",
    "\n",
    "# miscellaneous libraries\n",
    "from collections import Counter \n",
    "from collections import defaultdict\n",
    "from statistics import median"
   ]
  },
  {
   "cell_type": "code",
   "execution_count": 53,
   "id": "sufficient-literacy",
   "metadata": {
    "id": "sufficient-literacy"
   },
   "outputs": [],
   "source": [
    "# read the file\n",
    "netflix = pd.read_csv('netflix_titles.csv')"
   ]
  },
  {
   "cell_type": "markdown",
   "id": "wrapped-teddy",
   "metadata": {},
   "source": [
    "<a class=\"anchor\" id=\"preparation\"></a>"
   ]
  },
  {
   "cell_type": "markdown",
   "id": "capital-arabic",
   "metadata": {},
   "source": [
    "## Preparing the Dataset"
   ]
  },
  {
   "cell_type": "markdown",
   "id": "express-organic",
   "metadata": {},
   "source": [
    "Same steps are followed as during our individual experimentations. Please refer to those files for any explanations of the approach. "
   ]
  },
  {
   "cell_type": "code",
   "execution_count": 54,
   "id": "moved-cornell",
   "metadata": {
    "id": "moved-cornell",
    "outputId": "79393daa-35f9-4b62-bd4a-bbe9c5fd1a8c"
   },
   "outputs": [
    {
     "name": "stdout",
     "output_type": "stream",
     "text": [
      " There are 42 unique genres in total\n",
      "\n",
      "{'teen tv shows', 'sci-fi & fantasy', 'cult movies', 'anime series', 'docuseries', 'lgbtq movies', 'crime tv shows', 'international movies', 'independent movies', 'tv dramas', 'tv shows', 'tv mysteries', 'thrillers', 'stand-up comedy & talk shows', 'romantic movies', 'british tv shows', 'music & musicals', 'science & nature tv', 'classic movies', 'spanish-language tv shows', 'international tv shows', 'reality tv', 'tv horror', 'tv thrillers', 'sports movies', 'tv sci-fi & fantasy', 'horror movies', 'tv action & adventure', 'anime features', 'dramas', 'tv comedies', 'romantic tv shows', 'korean tv shows', 'children & family movies', 'faith & spirituality', 'documentaries', 'comedies', 'stand-up comedy', 'movies', 'classic & cult tv', \"kids' tv\", 'action & adventure'}\n",
      "The median number of genre occurance is: 220.0\n",
      "The maximum number of categories per title: 3\n",
      "The minimum number of categories per title: 1\n",
      "\n",
      "The number of titles attributed to *3* genres is: 3298\n",
      "The number of titles attributed to *2* genres is: 2688\n",
      "The number of titles attributed to *1* genres is: 1801\n"
     ]
    }
   ],
   "source": [
    "# drop irrelevant columns\n",
    "netflix = netflix[['listed_in', 'description']]\n",
    "\n",
    "# rename \"listed_in\"\n",
    "netflix.rename(columns={'listed_in' : 'genre'}, inplace=True)\n",
    "\n",
    "# split the genres, change to lowercase\n",
    "for index in netflix.index:\n",
    "    netflix['genre'][index] = netflix['genre'][index].lower().split(\", \")\n",
    "\n",
    "# create a list of possible genres and check how many there are\n",
    "genres = set()\n",
    "\n",
    "for index in netflix.index:\n",
    "    for i in (netflix['genre'][index]):\n",
    "        genres.add(i)\n",
    "\n",
    "print(f\" There are {len(genres)} unique genres in total\\n\")\n",
    "print(genres)\n",
    "\n",
    "# count the number of occurances for each genre\n",
    "total_genres = [i for index in netflix.index for i in netflix['genre'][index]]\n",
    "genre_count = Counter(total_genres)\n",
    "\n",
    "# calculate the median number of occurances\n",
    "med = median(genre_count.values())\n",
    "print(\"The median number of genre occurance is:\", med)\n",
    "\n",
    "# create a default dictionary\n",
    "category_count = defaultdict(int)\n",
    "for i in netflix.genre: \n",
    "    category_count[len(i)] += 1\n",
    "\n",
    "print(f\"The maximum number of categories per title: {max(category_count)}\")\n",
    "print(f\"The minimum number of categories per title: {min(category_count)}\\n\")\n",
    "\n",
    "for num, freq in category_count.items(): \n",
    "    print(f\"The number of titles attributed to *{num}* genres is: {freq}\")\n",
    "    \n",
    "# create a column for each genre \n",
    "for i in genres: \n",
    "    netflix[i] = 0 \n",
    "\n",
    "# if a title belongs to a genre, give a corresponding entry in a column a value of 1\n",
    "for index in netflix.index:\n",
    "    for genre in netflix.genre[index]:\n",
    "        netflix.loc[index, genre] = 1 \n",
    "\n",
    "# set a boundary \n",
    "threshold = med\n",
    "\n",
    "# create a list of genres out of the *genre_count* counter keys that have fewer occurances than the threshold\n",
    "# underrep = [i for i in netflix if i != 'description' and i != 'genre' and netflix[i].sum() < threshold]\n",
    "underrep = [key for key, value in genre_count.items() if value < threshold]\n",
    "\n",
    "# create a column \"other\"\n",
    "netflix['other'] = 0\n",
    "\n",
    "# give \"other\" a value of 1 when a title belongs to a rare genre\n",
    "for index, row in netflix[underrep].iterrows():\n",
    "    if row.sum() > 0:\n",
    "        netflix.loc[index, 'other'] = 1\n",
    "\n",
    "# drop underrepresented genres from the dataframe\n",
    "netflix = netflix.drop(underrep, axis=1)"
   ]
  },
  {
   "cell_type": "markdown",
   "id": "temporal-freeze",
   "metadata": {},
   "source": [
    "<a class=\"anchor\" id=\"further_processing\"></a>"
   ]
  },
  {
   "cell_type": "markdown",
   "id": "swiss-surrey",
   "metadata": {},
   "source": [
    "## Description Processing and the SVM model"
   ]
  },
  {
   "cell_type": "markdown",
   "id": "chubby-mouth",
   "metadata": {
    "id": "chubby-mouth"
   },
   "source": [
    "The following code cleans up all descriptions and prepares them to be fed into the SVM model. The SVM model is then trained. \n",
    "\n",
    "**\\* Please note that running this code is not necessary for creating the pipeline.**"
   ]
  },
  {
   "cell_type": "code",
   "execution_count": 55,
   "id": "technical-woman",
   "metadata": {
    "id": "technical-woman"
   },
   "outputs": [],
   "source": [
    "# install the package required to remove any contractions\n",
    "# !pip install contractions"
   ]
  },
  {
   "cell_type": "markdown",
   "id": "radical-reducing",
   "metadata": {},
   "source": [
    "Create a copy of the dataset so that it is separate from pipelining. "
   ]
  },
  {
   "cell_type": "code",
   "execution_count": 56,
   "id": "qualified-water",
   "metadata": {},
   "outputs": [],
   "source": [
    "# create a copy of the dataset\n",
    "netflix_base = netflix.copy()"
   ]
  },
  {
   "cell_type": "code",
   "execution_count": 57,
   "id": "needed-think",
   "metadata": {
    "id": "needed-think"
   },
   "outputs": [],
   "source": [
    "def lowercase(text: str) -> str:\n",
    "    \"\"\"Changes *text* to lowercase\"\"\"\n",
    "    text = text.lower()\n",
    "    return text\n",
    "\n",
    "assert lowercase(\"Test\") == \"test\"\n",
    "\n",
    "def remove_punct(text: str) -> str: \n",
    "    \"\"\"Removes any punctuation\"\"\"\n",
    "    text = re.sub(r'[^\\w\\s]', '', text)\n",
    "    text = re.sub('[,\\.!?]', '', text)\n",
    "    return text\n",
    "\n",
    "assert remove_punct(\"t:est'.\") == \"test\"\n",
    "\n",
    "def remove_numeric(text: str) -> str: \n",
    "    \"\"\"Removes any numbers\"\"\"\n",
    "    text = re.sub('[^a-z A-Z]+', '', text)\n",
    "    return text\n",
    "\n",
    "assert remove_numeric(\"test1\") == \"test\"\n",
    "\n",
    "def expand_contractions(text: str) -> str: \n",
    "    \"\"\"Expands any common English language contractions\"\"\"\n",
    "    text = contractions.fix(text)\n",
    "    return text\n",
    "\n",
    "assert expand_contractions(\"we'd\") == \"we would\"\n",
    "\n",
    "def clean_descr(text: str) -> str: \n",
    "    text = lowercase(text)\n",
    "    text = expand_contractions(text)\n",
    "    text = remove_punct(text)\n",
    "    text = remove_numeric(text)\n",
    "    return text\n",
    "\n",
    "assert clean_descr(\"te:'st'. we'd Love to1 pa2:ss\") == \"test we would love to pass\""
   ]
  },
  {
   "cell_type": "code",
   "execution_count": 58,
   "id": "weird-little",
   "metadata": {
    "id": "weird-little"
   },
   "outputs": [],
   "source": [
    "# clean all descriptions\n",
    "netflix_base['description'] = netflix_base['description'].map(clean_descr)"
   ]
  },
  {
   "cell_type": "code",
   "execution_count": 59,
   "id": "intensive-internet",
   "metadata": {},
   "outputs": [],
   "source": [
    "# tokenise\n",
    "netflix_base['description'] = netflix_base['description'].map(lambda x: text_to_word_sequence(x))\n",
    "tokens = netflix_base.description.tolist()"
   ]
  },
  {
   "cell_type": "code",
   "execution_count": 60,
   "id": "ready-andrew",
   "metadata": {},
   "outputs": [
    {
     "name": "stderr",
     "output_type": "stream",
     "text": [
      "[nltk_data] Downloading package stopwords to\n",
      "[nltk_data]     /Users/macbookpro/nltk_data...\n",
      "[nltk_data]   Package stopwords is already up-to-date!\n"
     ]
    }
   ],
   "source": [
    "# obtain a list of English stopwords provided in nltk\n",
    "nltk.download('stopwords')\n",
    "stop_words = nltk.corpus.stopwords.words('english')\n",
    "\n",
    "# obtain a list of English stopwords provided in sklearn\n",
    "stop_words_sklearn = ENGLISH_STOP_WORDS\n",
    "\n",
    "# combine two lists of stopwords\n",
    "for word in stop_words_sklearn:\n",
    "    if word not in stop_words:\n",
    "        stop_words.append(word)"
   ]
  },
  {
   "cell_type": "code",
   "execution_count": 61,
   "id": "honey-qatar",
   "metadata": {},
   "outputs": [],
   "source": [
    "def remove_stopwords(text: List[str], stopwords: List[str]) -> List[str]: \n",
    "    \"\"\"Removes any stopwords present in *stopwords*\"\"\"\n",
    "    text = [word for word in text if word not in stopwords]\n",
    "    return text\n",
    "\n",
    "assert remove_stopwords([\"earthquake\", \"me\"], stop_words) == [\"earthquake\"]"
   ]
  },
  {
   "cell_type": "code",
   "execution_count": 62,
   "id": "divine-patrol",
   "metadata": {},
   "outputs": [],
   "source": [
    "# remove stopwords\n",
    "netflix_base['description'] = netflix_base['description'].map(lambda x: remove_stopwords(x, stop_words))"
   ]
  },
  {
   "cell_type": "code",
   "execution_count": 63,
   "id": "indian-palestinian",
   "metadata": {},
   "outputs": [],
   "source": [
    "# drop the 'genre' column\n",
    "netflix_base = netflix_base.drop(columns=['genre'])"
   ]
  },
  {
   "cell_type": "code",
   "execution_count": 64,
   "id": "exotic-savings",
   "metadata": {},
   "outputs": [],
   "source": [
    "# import Snowball stemmer\n",
    "stemmer = SnowballStemmer(\"english\")\n",
    "\n",
    "# apply stemming to each tokenised description\n",
    "netflix_base.description = [[stemmer.stem(token) for token in description] for description in netflix_base.description]"
   ]
  },
  {
   "cell_type": "code",
   "execution_count": 65,
   "id": "renewable-stadium",
   "metadata": {},
   "outputs": [],
   "source": [
    "threshold = 3\n",
    "\n",
    "# remove tokens that have fewer than 3 characters \n",
    "netflix_base.description = [[token for token in description if len(token) > threshold] for description in netflix_base.description]\n",
    "\n",
    "# print shape of each copy before and after and remove any rows where description is below the threshold\n",
    "for index in netflix_base.index:\n",
    "        if len(netflix_base.description[index]) <= threshold: \n",
    "            netflix_base = netflix_base.drop([index])"
   ]
  },
  {
   "cell_type": "code",
   "execution_count": 66,
   "id": "matched-punishment",
   "metadata": {},
   "outputs": [],
   "source": [
    "# define X and y for spacy_spalem\n",
    "X = netflix_base.description\n",
    "X = [\" \".join(t) for t in X]\n",
    "y = netflix_base.drop('description', axis=1)\n",
    "\n",
    "# split into train/test\n",
    "X_train, X_test, y_train, y_test = train_test_split(X, y, test_size=0.2, random_state=0, shuffle=False)"
   ]
  },
  {
   "cell_type": "code",
   "execution_count": 67,
   "id": "altered-marina",
   "metadata": {},
   "outputs": [],
   "source": [
    "# define the vectoriser and create n-grams.\n",
    "tfidf = TfidfVectorizer(analyzer='word', ngram_range=(1,3), max_features=1000)\n",
    "\n",
    "X_train = tfidf.fit_transform(X_train)\n",
    "X_test = tfidf.transform(X_test)"
   ]
  },
  {
   "cell_type": "code",
   "execution_count": 68,
   "id": "worst-geography",
   "metadata": {
    "scrolled": true
   },
   "outputs": [],
   "source": [
    "# apply the SVC model and print out different performance metrics\n",
    "svc_clf = OneVsRestClassifier(SVC(C=10, gamma='scale', kernel='rbf', max_iter=500)).fit(X_train, y_train)\n",
    "\n",
    "prediction_train = svc_clf.predict(X_train)\n",
    "prediction_test = svc_clf.predict(X_test)"
   ]
  },
  {
   "cell_type": "markdown",
   "id": "interracial-language",
   "metadata": {},
   "source": [
    "<a class=\"anchor\" id=\"pipelining\"></a>"
   ]
  },
  {
   "cell_type": "markdown",
   "id": "altered-growing",
   "metadata": {},
   "source": [
    "## CI/CD Pipeline"
   ]
  },
  {
   "cell_type": "markdown",
   "id": "naval-shape",
   "metadata": {},
   "source": [
    "The code below prepares the dataset to be used with the pipeline. We define the stopwords which will be removed in the pipeline. "
   ]
  },
  {
   "cell_type": "code",
   "execution_count": 69,
   "id": "short-crossing",
   "metadata": {},
   "outputs": [
    {
     "name": "stdout",
     "output_type": "stream",
     "text": [
      "Final number of stopwords: 378\n"
     ]
    },
    {
     "name": "stderr",
     "output_type": "stream",
     "text": [
      "[nltk_data] Downloading package stopwords to\n",
      "[nltk_data]     /Users/macbookpro/nltk_data...\n",
      "[nltk_data]   Package stopwords is already up-to-date!\n"
     ]
    }
   ],
   "source": [
    "# obtain a list of English stopwords provided in nltk\n",
    "nltk.download('stopwords')\n",
    "stop_words = nltk.corpus.stopwords.words('english')\n",
    "\n",
    "# obtain a list of English stopwords provided in sklearn\n",
    "stop_words_sklearn = ENGLISH_STOP_WORDS\n",
    "\n",
    "# combine two lists of stopwords\n",
    "for word in stop_words_sklearn:\n",
    "    if word not in stop_words:\n",
    "        stop_words.append(word)\n",
    "print(\"Final number of stopwords:\", len(stop_words))"
   ]
  },
  {
   "cell_type": "markdown",
   "id": "outer-yacht",
   "metadata": {},
   "source": [
    "The 'genre' column, which is now redundant, should be dropped. Then, we can define the X and y values."
   ]
  },
  {
   "cell_type": "code",
   "execution_count": 70,
   "id": "geographic-checkout",
   "metadata": {},
   "outputs": [],
   "source": [
    "# drop the 'genre' column\n",
    "netflix = netflix.drop(columns=['genre'])"
   ]
  },
  {
   "cell_type": "code",
   "execution_count": 71,
   "id": "wrapped-sailing",
   "metadata": {},
   "outputs": [],
   "source": [
    "X = netflix.description\n",
    "y = netflix.drop('description', axis=1)"
   ]
  },
  {
   "cell_type": "markdown",
   "id": "broken-stupid",
   "metadata": {},
   "source": [
    "The dataset can be split into train and test subsets so that the model performance can be evaluated using the unseen data. The split is 20% test 80% train data.  "
   ]
  },
  {
   "cell_type": "code",
   "execution_count": 72,
   "id": "fluid-implement",
   "metadata": {},
   "outputs": [],
   "source": [
    "# split into trainval/test\n",
    "X_train, X_test, y_train, y_test = train_test_split(X, y, test_size=0.2, random_state=0, shuffle=False)"
   ]
  },
  {
   "cell_type": "markdown",
   "id": "anonymous-lesbian",
   "metadata": {},
   "source": [
    "Test values can now be saved into separate csv files in order to be used by the endpoint. "
   ]
  },
  {
   "cell_type": "code",
   "execution_count": 73,
   "id": "regional-invitation",
   "metadata": {},
   "outputs": [],
   "source": [
    "# save test data to a csv file\n",
    "X_test.to_csv(\"test_X.csv\", index=False)\n",
    "y_test.to_csv(\"test_y.csv\", index=False)"
   ]
  },
  {
   "cell_type": "markdown",
   "id": "cooperative-findings",
   "metadata": {},
   "source": [
    "We can now build a pipeline. It consists of two parts. The first one is the vectoriser, which creates n-grams, limits the number of features to 1000 and removes any stopwords taken from the combined English stopwords from nltk and sklearn libraries. The second part is the actual model, which was tuned during the individual experimentation."
   ]
  },
  {
   "cell_type": "code",
   "execution_count": 74,
   "id": "innocent-bangladesh",
   "metadata": {},
   "outputs": [],
   "source": [
    "# create a pipeline\n",
    "pipeline = Pipeline( steps = [('tfidf', TfidfVectorizer(analyzer='word', \n",
    "                                                        ngram_range=(1,3), \n",
    "                                                        max_features=1000,\n",
    "                                                        stop_words=stop_words,\n",
    "                                                        lowercase=True,\n",
    "                                                        strip_accents='unicode')),\n",
    "                              ('model', OneVsRestClassifier(SVC(C=10, gamma='scale', kernel='rbf', max_iter=500)))\n",
    "                              ])"
   ]
  },
  {
   "cell_type": "markdown",
   "id": "limited-failing",
   "metadata": {},
   "source": [
    "We can now fit the pipeline and make predictions. The ROC AUC score can be used to evaluate its performance on the test data."
   ]
  },
  {
   "cell_type": "code",
   "execution_count": 75,
   "id": "literary-russell",
   "metadata": {},
   "outputs": [
    {
     "data": {
      "text/plain": [
       "Pipeline(steps=[('tfidf',\n",
       "                 TfidfVectorizer(max_features=1000, ngram_range=(1, 3),\n",
       "                                 stop_words=['i', 'me', 'my', 'myself', 'we',\n",
       "                                             'our', 'ours', 'ourselves', 'you',\n",
       "                                             \"you're\", \"you've\", \"you'll\",\n",
       "                                             \"you'd\", 'your', 'yours',\n",
       "                                             'yourself', 'yourselves', 'he',\n",
       "                                             'him', 'his', 'himself', 'she',\n",
       "                                             \"she's\", 'her', 'hers', 'herself',\n",
       "                                             'it', \"it's\", 'its', 'itself', ...],\n",
       "                                 strip_accents='unicode')),\n",
       "                ('model',\n",
       "                 OneVsRestClassifier(estimator=SVC(C=10, max_iter=500)))])"
      ]
     },
     "execution_count": 75,
     "metadata": {},
     "output_type": "execute_result"
    }
   ],
   "source": [
    "# fit the pipeline\n",
    "pipeline.fit(X_train, y_train)"
   ]
  },
  {
   "cell_type": "code",
   "execution_count": 76,
   "id": "rough-bench",
   "metadata": {},
   "outputs": [
    {
     "data": {
      "text/plain": [
       "array([[0, 0, 0, ..., 0, 0, 1],\n",
       "       [0, 0, 0, ..., 0, 1, 0],\n",
       "       [0, 0, 1, ..., 0, 0, 0],\n",
       "       ...,\n",
       "       [0, 0, 0, ..., 0, 0, 1],\n",
       "       [0, 0, 0, ..., 0, 1, 0],\n",
       "       [0, 0, 0, ..., 0, 1, 1]])"
      ]
     },
     "execution_count": 76,
     "metadata": {},
     "output_type": "execute_result"
    }
   ],
   "source": [
    "# use pipeline to predict X_train\n",
    "pipe_train = pipeline.predict(X_train)\n",
    "pipe_train"
   ]
  },
  {
   "cell_type": "code",
   "execution_count": 77,
   "id": "automatic-front",
   "metadata": {},
   "outputs": [
    {
     "data": {
      "text/plain": [
       "array([[0, 0, 1, ..., 0, 0, 1],\n",
       "       [1, 0, 0, ..., 0, 0, 1],\n",
       "       [0, 0, 1, ..., 0, 0, 0],\n",
       "       ...,\n",
       "       [0, 0, 0, ..., 0, 0, 0],\n",
       "       [0, 0, 1, ..., 0, 0, 1],\n",
       "       [0, 0, 0, ..., 0, 0, 0]])"
      ]
     },
     "execution_count": 77,
     "metadata": {},
     "output_type": "execute_result"
    }
   ],
   "source": [
    "# use pipeline to predict X_test\n",
    "pipe_test = pipeline.predict(X_test)\n",
    "pipe_test "
   ]
  },
  {
   "cell_type": "code",
   "execution_count": 78,
   "id": "focused-input",
   "metadata": {},
   "outputs": [
    {
     "data": {
      "text/plain": [
       "0.6001871423664922"
      ]
     },
     "execution_count": 78,
     "metadata": {},
     "output_type": "execute_result"
    }
   ],
   "source": [
    "# calculate the ROC AUC score\n",
    "roc_auc = roc_auc_score(y_test, pipeline.predict(X_test))\n",
    "roc_auc"
   ]
  },
  {
   "cell_type": "markdown",
   "id": "dynamic-nancy",
   "metadata": {},
   "source": [
    "Before deploying the model, we can test whether the pipeline works predictably with the previously created csv files for test subsets. To do this, we load the files and recalculate the ROC AUC score."
   ]
  },
  {
   "cell_type": "code",
   "execution_count": 79,
   "id": "bronze-river",
   "metadata": {},
   "outputs": [],
   "source": [
    "# load the files\n",
    "X_test = pd.read_csv(\"test_X.csv\").description\n",
    "y_test = pd.read_csv(\"test_y.csv\")"
   ]
  },
  {
   "cell_type": "code",
   "execution_count": 80,
   "id": "concerned-circus",
   "metadata": {},
   "outputs": [
    {
     "data": {
      "text/plain": [
       "0.6001871423664922"
      ]
     },
     "execution_count": 80,
     "metadata": {},
     "output_type": "execute_result"
    }
   ],
   "source": [
    "# calculate the ROC AUC score\n",
    "roc_auc = roc_auc_score(y_test, pipeline.predict(X_test))\n",
    "roc_auc"
   ]
  },
  {
   "cell_type": "code",
   "execution_count": 81,
   "id": "median-crazy",
   "metadata": {},
   "outputs": [
    {
     "data": {
      "text/plain": [
       "0.31938493684321667"
      ]
     },
     "execution_count": 81,
     "metadata": {},
     "output_type": "execute_result"
    }
   ],
   "source": [
    "f1_samples = f1_score(y_true=y_test, y_pred= pipeline.predict(X_test), average='samples')\n",
    "f1_samples"
   ]
  },
  {
   "cell_type": "markdown",
   "id": "particular-romantic",
   "metadata": {},
   "source": [
    "We can now save the pipeline to be used in the deployment."
   ]
  },
  {
   "cell_type": "code",
   "execution_count": 82,
   "id": "continuous-healthcare",
   "metadata": {},
   "outputs": [
    {
     "data": {
      "text/plain": [
       "['genre_classification.joblib']"
      ]
     },
     "execution_count": 82,
     "metadata": {},
     "output_type": "execute_result"
    }
   ],
   "source": [
    "# save the pipeline\n",
    "dump(pipeline, filename=\"genre_classification.joblib\")"
   ]
  },
  {
   "cell_type": "markdown",
   "id": "basic-resident",
   "metadata": {},
   "source": [
    "It is now important to test the model by loading the pipeline and checking whether it produces some output with some  user text. Text is first converted into the pandas.Series format and then a prediction is made. "
   ]
  },
  {
   "cell_type": "code",
   "execution_count": 83,
   "id": "environmental-journey",
   "metadata": {},
   "outputs": [],
   "source": [
    "pipeline = load(\"genre_classification.joblib\")"
   ]
  },
  {
   "cell_type": "code",
   "execution_count": 84,
   "id": "comfortable-tactics",
   "metadata": {},
   "outputs": [],
   "source": [
    "text = pd.Series(\"Dangerous criminal is on the run again\")"
   ]
  },
  {
   "cell_type": "code",
   "execution_count": 85,
   "id": "warming-federation",
   "metadata": {},
   "outputs": [
    {
     "data": {
      "text/plain": [
       "array([[0, 0, 0, 1, 0, 0, 0, 0, 0, 0, 0, 0, 0, 0, 0, 0, 0, 1, 0, 0, 0, 0]])"
      ]
     },
     "execution_count": 85,
     "metadata": {},
     "output_type": "execute_result"
    }
   ],
   "source": [
    "test = pipeline.predict(text)\n",
    "test"
   ]
  },
  {
   "cell_type": "markdown",
   "id": "orange-brush",
   "metadata": {},
   "source": [
    "Confusion matrices can also be produced using the pipeline predictions in order to see the performance for each genre."
   ]
  },
  {
   "cell_type": "code",
   "execution_count": 86,
   "id": "specific-pitch",
   "metadata": {},
   "outputs": [],
   "source": [
    "# taken and adapted from \n",
    "# https://stackoverflow.com/questions/62722416/plot-confusion-matrix-for-multilabel-classifcation-python\n",
    "def print_confusion_matrix(confusion_matrix, axes, class_label, class_names, fontsize=14):\n",
    "\n",
    "    df_cm = pd.DataFrame(\n",
    "        confusion_matrix, index=class_names, columns=class_names,\n",
    "    )\n",
    "\n",
    "    try:\n",
    "        heatmap = sns.heatmap(df_cm, annot=True, fmt=\"d\", cbar=False, ax=axes, cmap='rocket_r')\n",
    "    except ValueError:\n",
    "        raise ValueError(\"Confusion matrix values must be integers.\")\n",
    "    heatmap.yaxis.set_ticklabels(heatmap.yaxis.get_ticklabels(), rotation=0, ha='right', fontsize=fontsize)\n",
    "    heatmap.xaxis.set_ticklabels(heatmap.xaxis.get_ticklabels(), rotation=0, ha='right', fontsize=fontsize)\n",
    "    axes.set_ylabel('True label')\n",
    "    axes.set_xlabel('Predicted label')\n",
    "    axes.set_title(\"Confusion Matrix for the class - \" + class_label)"
   ]
  },
  {
   "cell_type": "code",
   "execution_count": 87,
   "id": "geological-database",
   "metadata": {},
   "outputs": [
    {
     "data": {
      "image/png": "[encoded data removed]",
      "text/plain": [
       "<Figure size 864x2880 with 22 Axes>"
      ]
     },
     "metadata": {
      "needs_background": "light"
     },
     "output_type": "display_data"
    }
   ],
   "source": [
    "# taken and adapted from \n",
    "# https://stackoverflow.com/questions/62722416/plot-confusion-matrix-for-multilabel-classifcation-python\n",
    "\n",
    "matrix_svc = multilabel_confusion_matrix(y_true=y_test, y_pred=pipeline.predict(X_test))\n",
    "labels = y_test.columns\n",
    "\n",
    "fig, ax = plt.subplots(11, 2, figsize=(12, 40))\n",
    "    \n",
    "for axes, cfs_matrix, label in zip(ax.flatten(), matrix_svc, labels):\n",
    "    print_confusion_matrix(cfs_matrix, axes, label, [\"1\", \"0\"])\n",
    "    \n",
    "fig.tight_layout()\n",
    "\n",
    "fig.savefig('confusion_plots.png')\n",
    "plt.show()"
   ]
  },
  {
   "cell_type": "markdown",
   "id": "spanish-treat",
   "metadata": {},
   "source": [
    "The following line will run the classification.py file, which can be viewed locally."
   ]
  },
  {
   "cell_type": "code",
   "execution_count": 88,
   "id": "broadband-scientist",
   "metadata": {},
   "outputs": [],
   "source": [
    "# !python classification.py"
   ]
  },
  {
   "cell_type": "markdown",
   "id": "middle-cover",
   "metadata": {},
   "source": [
    "A more sophisticated pipeline can also be built. It has an additional part - the preprocessing, which is manually defined. The following function defines the preprocessing steps. It is then passed into FunctionTransformer to be used with the pipeline. \n",
    "\n",
    "This method gives a slightly higher ROC AUC score. It also ensures that any input passed by the user is first normalised and cleaned, and only then passed to the model. However, when trying to deploy it, we were running into an Attribute error. Hence, our classification.py has some error handling to try to use the following pipeline and use the one before if the try is unsucessful. "
   ]
  },
  {
   "cell_type": "code",
   "execution_count": 89,
   "id": "severe-contrast",
   "metadata": {},
   "outputs": [],
   "source": [
    "def preprocessing(X) -> List[str]:\n",
    "    \n",
    "    from sklearn.preprocessing import FunctionTransformer\n",
    "    \n",
    "    def lowercase(text: str) -> str:\n",
    "        \"\"\"Changes *text* to lowercase\"\"\"\n",
    "        text = text.lower()\n",
    "        return text\n",
    "\n",
    "    def remove_punct(text: str) -> str: \n",
    "        \"\"\"Removes any punctuation\"\"\"\n",
    "        text = re.sub(r'[^\\w\\s]', '', text)\n",
    "        text = re.sub('[,\\.!?]', '', text)\n",
    "        return text\n",
    "\n",
    "    def remove_numeric(text: str) -> str: \n",
    "        \"\"\"Removes any numbers\"\"\"\n",
    "        text = re.sub('[^a-z A-Z]+', '', text)\n",
    "        return text\n",
    "\n",
    "    def expand_contractions(text: str) -> str: \n",
    "        \"\"\"Expands any common English language contractions\"\"\"\n",
    "        text = contractions.fix(text)\n",
    "        return text\n",
    "\n",
    "    def clean_descr(text: str) -> str: \n",
    "        text = lowercase(text)\n",
    "        text = expand_contractions(text)\n",
    "        text = remove_punct(text)\n",
    "        text = remove_numeric(text)\n",
    "        return text\n",
    "    \n",
    "    def remove_stopwords(text: List[str], stopwords: List[str]) -> List[str]: \n",
    "        \"\"\"Removes any stopwords present in *stopwords*\"\"\"\n",
    "        text = [word for word in text if word not in stopwords]\n",
    "        return text\n",
    "    \n",
    "    global stop_words\n",
    "    \n",
    "    X = X.map(clean_descr)\n",
    "    X = X.map(lambda x: text_to_word_sequence(x))\n",
    "    X = X.map(lambda x: remove_stopwords(x, stop_words))\n",
    "    \n",
    "    stemmer = SnowballStemmer(\"english\")\n",
    "\n",
    "    X = [[stemmer.stem(token) for token in description] for description in X]\n",
    "    X = [\" \".join(t) for t in X]\n",
    "    return X"
   ]
  },
  {
   "cell_type": "code",
   "execution_count": 90,
   "id": "drawn-mystery",
   "metadata": {},
   "outputs": [],
   "source": [
    "pipeline1 = Pipeline( steps = [('preprocess', FunctionTransformer(preprocessing)),\n",
    "                              ('tfidf', TfidfVectorizer(analyzer='word', \n",
    "                                                        ngram_range=(1,3), \n",
    "                                                        max_features=1000,\n",
    "                                                        stop_words=stop_words,\n",
    "                                                        lowercase=True,\n",
    "                                                        strip_accents='unicode')),\n",
    "                              ('model', OneVsRestClassifier(SVC(C=10, gamma='scale', kernel='rbf', max_iter=500)))\n",
    "                              ])"
   ]
  },
  {
   "cell_type": "code",
   "execution_count": 91,
   "id": "crude-audit",
   "metadata": {},
   "outputs": [
    {
     "data": {
      "text/plain": [
       "Pipeline(steps=[('preprocess',\n",
       "                 FunctionTransformer(func=<function preprocessing at 0x7fc1cda8c670>)),\n",
       "                ('tfidf',\n",
       "                 TfidfVectorizer(max_features=1000, ngram_range=(1, 3),\n",
       "                                 stop_words=['i', 'me', 'my', 'myself', 'we',\n",
       "                                             'our', 'ours', 'ourselves', 'you',\n",
       "                                             \"you're\", \"you've\", \"you'll\",\n",
       "                                             \"you'd\", 'your', 'yours',\n",
       "                                             'yourself', 'yourselves', 'he',\n",
       "                                             'him', 'his', 'himself', 'she',\n",
       "                                             \"she's\", 'her', 'hers', 'herself',\n",
       "                                             'it', \"it's\", 'its', 'itself', ...],\n",
       "                                 strip_accents='unicode')),\n",
       "                ('model',\n",
       "                 OneVsRestClassifier(estimator=SVC(C=10, max_iter=500)))])"
      ]
     },
     "execution_count": 91,
     "metadata": {},
     "output_type": "execute_result"
    }
   ],
   "source": [
    "# fit the pipeline\n",
    "pipeline1.fit(X_train, y_train)"
   ]
  },
  {
   "cell_type": "code",
   "execution_count": 92,
   "id": "constant-promise",
   "metadata": {},
   "outputs": [
    {
     "data": {
      "text/plain": [
       "array([[0, 0, 0, ..., 0, 0, 1],\n",
       "       [0, 0, 1, ..., 0, 0, 0],\n",
       "       [0, 0, 1, ..., 0, 0, 1],\n",
       "       ...,\n",
       "       [0, 0, 0, ..., 0, 0, 1],\n",
       "       [0, 0, 0, ..., 0, 1, 0],\n",
       "       [0, 0, 0, ..., 0, 1, 1]])"
      ]
     },
     "execution_count": 92,
     "metadata": {},
     "output_type": "execute_result"
    }
   ],
   "source": [
    "# use pipeline to predict X_train\n",
    "pipe1_train = pipeline1.predict(X_train)\n",
    "pipe1_train"
   ]
  },
  {
   "cell_type": "code",
   "execution_count": 93,
   "id": "ideal-student",
   "metadata": {},
   "outputs": [
    {
     "data": {
      "text/plain": [
       "array([[0, 0, 1, ..., 0, 0, 1],\n",
       "       [1, 0, 0, ..., 0, 0, 1],\n",
       "       [0, 0, 1, ..., 0, 1, 1],\n",
       "       ...,\n",
       "       [0, 0, 1, ..., 0, 0, 0],\n",
       "       [0, 0, 0, ..., 0, 0, 0],\n",
       "       [0, 0, 0, ..., 0, 0, 0]])"
      ]
     },
     "execution_count": 93,
     "metadata": {},
     "output_type": "execute_result"
    }
   ],
   "source": [
    "# use pipeline to predict X_test\n",
    "pipe1_test = pipeline1.predict(X_test)\n",
    "pipe1_test "
   ]
  },
  {
   "cell_type": "code",
   "execution_count": 94,
   "id": "owned-andrew",
   "metadata": {},
   "outputs": [
    {
     "data": {
      "text/plain": [
       "0.6108249806358041"
      ]
     },
     "execution_count": 94,
     "metadata": {},
     "output_type": "execute_result"
    }
   ],
   "source": [
    "# calculate the ROC AUC score\n",
    "roc_auc1 = roc_auc_score(y_test, pipeline1.predict(X_test))\n",
    "roc_auc1"
   ]
  },
  {
   "cell_type": "code",
   "execution_count": 95,
   "id": "behind-category",
   "metadata": {},
   "outputs": [
    {
     "data": {
      "text/plain": [
       "0.3348401491533713"
      ]
     },
     "execution_count": 95,
     "metadata": {},
     "output_type": "execute_result"
    }
   ],
   "source": [
    "f1_samples1 = f1_score(y_true=y_test, y_pred= pipeline1.predict(X_test), average='samples')\n",
    "f1_samples1"
   ]
  },
  {
   "cell_type": "code",
   "execution_count": 96,
   "id": "suffering-lightweight",
   "metadata": {},
   "outputs": [
    {
     "data": {
      "text/plain": [
       "['genre_classification1.joblib']"
      ]
     },
     "execution_count": 96,
     "metadata": {},
     "output_type": "execute_result"
    }
   ],
   "source": [
    "# save the pipeline\n",
    "dump(pipeline, filename=\"genre_classification1.joblib\")"
   ]
  },
  {
   "cell_type": "code",
   "execution_count": 97,
   "id": "listed-kruger",
   "metadata": {},
   "outputs": [
    {
     "data": {
      "text/plain": [
       "['danger crimin run']"
      ]
     },
     "execution_count": 97,
     "metadata": {},
     "output_type": "execute_result"
    }
   ],
   "source": [
    "pipeline1['preprocess'].transform(text)"
   ]
  },
  {
   "cell_type": "markdown",
   "id": "arctic-princess",
   "metadata": {},
   "source": [
    "<a class=\"anchor\" id=\"testing\"></a>"
   ]
  },
  {
   "cell_type": "markdown",
   "id": "atmospheric-today",
   "metadata": {},
   "source": [
    "## Testing"
   ]
  },
  {
   "cell_type": "markdown",
   "id": "expected-paper",
   "metadata": {},
   "source": [
    "We did our API testing with the use of 'Postman'. It  does a sort of health-check to ensure our GET and POST methods are working smoothly and the service is up and running along with the build version of an API that is being deployed. We did the unit testing on our functions through the use of 'assert' statements. Each function has an assert statement to ensure that it works and behaves in the expected manner. We have carried out multiple unit tests throughout the code, as can be seen from the code above, in order to see that each block of code produces the expected output. The logic error testing was also carried out in the end to see we are getting the appropriate output. Finally, we have performed some functional testing with different user inputs in order to see whether the whole system works."
   ]
  },
  {
   "cell_type": "markdown",
   "id": "egyptian-waters",
   "metadata": {},
   "source": [
    "<a class=\"anchor\" id=\"performance\"></a>"
   ]
  },
  {
   "cell_type": "markdown",
   "id": "reserved-romance",
   "metadata": {},
   "source": [
    "## The Performance of the Service - the Good and Bad Points"
   ]
  },
  {
   "cell_type": "markdown",
   "id": "efficient-shift",
   "metadata": {},
   "source": [
    "Overall, we are happy with the performance of our service for the problem of classifying the genre of piece of text or description. The service is extremely quick and easy to understand as shown by the simplistic yet clear web page design. New descriptions inputted into the system are labelled on average in 500ms, this clearly shows that the system is very quick and effective. In addition, the service has no limitation to what variation of text can inputted into the system. Clearly the model is trained on movie descriptions so it is expected that it would best predict other movie descriptions. \n",
    "\n",
    "On the other hand, there is large amount of room for improvement, as the service is very limited in other ways. Currently the model is limited to a singular description. That means that if the user wanted to employ the service to identify multiple different descriptions at once they would be required to input them one by one. Naturally this is an extremely time-consuming process. Furthermore, the accuracy of the service’s model isn’t exceptionally high at roughly 60-61% ROC AUC score, depending on the pipeline used. The F1 score is only 31% when tested using the test dataset. This could create misleading/incorrect results when inputting new movie descriptions. Currently the output only contains a matrix format of all genres included in the analysis. This isn’t ideal as users would prefer that a list of genres was outputted instead of looking manually at a matrix. This isn’t a particular big problem, but it is definitely something that could be looked to be improved in the future. Lastly, the model is currently limited to the English Language and could not be used to label descriptions in a different language. This could be solved by invoking some sort of translator into the system that converts the language to English."
   ]
  },
  {
   "cell_type": "markdown",
   "id": "handled-carol",
   "metadata": {},
   "source": [
    "<a class=\"anchor\" id=\"references\"></a>"
   ]
  },
  {
   "cell_type": "markdown",
   "id": "egyptian-safety",
   "metadata": {},
   "source": [
    "## References"
   ]
  },
  {
   "cell_type": "markdown",
   "id": "together-father",
   "metadata": {},
   "source": [
    "1. Ramos, J., 2020. Machine Learning Model Serving Options. [online] Medium. Available at: <https://itnext.io/machine-learning-model-serving-options-1edf790d917> [Accessed 26 May 2021]."
   ]
  }
 ],
 "metadata": {
  "colab": {
   "name": "Danylo_Kovalenko_Individual.ipynb",
   "provenance": []
  },
  "kernelspec": {
   "display_name": "Python 3",
   "language": "python",
   "name": "python3"
  },
  "language_info": {
   "codemirror_mode": {
    "name": "ipython",
    "version": 3
   },
   "file_extension": ".py",
   "mimetype": "text/x-python",
   "name": "python",
   "nbconvert_exporter": "python",
   "pygments_lexer": "ipython3",
   "version": "3.8.5"
  }
 },
 "nbformat": 4,
 "nbformat_minor": 5
}
